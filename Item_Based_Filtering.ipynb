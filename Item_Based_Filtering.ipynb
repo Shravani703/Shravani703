{
  "nbformat": 4,
  "nbformat_minor": 0,
  "metadata": {
    "colab": {
      "provenance": [],
      "include_colab_link": true
    },
    "kernelspec": {
      "name": "python3",
      "display_name": "Python 3"
    },
    "language_info": {
      "name": "python"
    }
  },
  "cells": [
    {
      "cell_type": "markdown",
      "metadata": {
        "id": "view-in-github",
        "colab_type": "text"
      },
      "source": [
        "<a href=\"https://colab.research.google.com/github/Shravani703/Shravani703/blob/main/Item_Based_Filtering.ipynb\" target=\"_parent\"><img src=\"https://colab.research.google.com/assets/colab-badge.svg\" alt=\"Open In Colab\"/></a>"
      ]
    },
    {
      "cell_type": "code",
      "execution_count": 1,
      "metadata": {
        "id": "oyQmPQeu8a7w"
      },
      "outputs": [],
      "source": [
        "import numpy as np \n",
        "import pandas as pd"
      ]
    },
    {
      "cell_type": "code",
      "source": [
        "books=pd.read_csv('/content/drive/MyDrive/Ops Final/Books.csv')\n",
        "ratings=pd.read_csv('/content/drive/MyDrive/Ops Final/Ratings.csv')\n",
        "users=pd.read_csv('/content/drive/MyDrive/Ops Final/Users.csv')"
      ],
      "metadata": {
        "id": "jfe1fGSG9Wdr",
        "colab": {
          "base_uri": "https://localhost:8080/"
        },
        "outputId": "f2a5d3c7-1084-4bb9-aabf-19b1884c2265"
      },
      "execution_count": 2,
      "outputs": [
        {
          "output_type": "stream",
          "name": "stderr",
          "text": [
            "/usr/local/lib/python3.8/dist-packages/IPython/core/interactiveshell.py:3326: DtypeWarning: Columns (3) have mixed types.Specify dtype option on import or set low_memory=False.\n",
            "  exec(code_obj, self.user_global_ns, self.user_ns)\n"
          ]
        }
      ]
    },
    {
      "cell_type": "code",
      "source": [
        "from google.colab import drive\n",
        "drive.mount('/content/drive')"
      ],
      "metadata": {
        "id": "goCMO_9DIjPq"
      },
      "execution_count": null,
      "outputs": []
    },
    {
      "cell_type": "code",
      "source": [
        "books.head()"
      ],
      "metadata": {
        "id": "46GP5HaD9xPS"
      },
      "execution_count": null,
      "outputs": []
    },
    {
      "cell_type": "code",
      "source": [
        "users.head()"
      ],
      "metadata": {
        "id": "srVHWQUm93AL"
      },
      "execution_count": null,
      "outputs": []
    },
    {
      "cell_type": "code",
      "source": [
        "ratings.head()"
      ],
      "metadata": {
        "id": "qKc8oyLz93nl"
      },
      "execution_count": null,
      "outputs": []
    },
    {
      "cell_type": "code",
      "source": [
        "print(ratings.shape)\n",
        "print(books.shape)\n",
        "print(users.shape)"
      ],
      "metadata": {
        "id": "IJbbIssK-B-r",
        "colab": {
          "base_uri": "https://localhost:8080/"
        },
        "outputId": "c86147cc-d11f-4730-d22e-a1c19adae3ff"
      },
      "execution_count": null,
      "outputs": [
        {
          "output_type": "stream",
          "name": "stdout",
          "text": [
            "(1149780, 3)\n",
            "(271360, 8)\n",
            "(278858, 3)\n"
          ]
        }
      ]
    },
    {
      "cell_type": "code",
      "source": [
        "ratings_books = ratings.merge(books,on='ISBN')"
      ],
      "metadata": {
        "id": "1L2VX1VN-KNQ"
      },
      "execution_count": 3,
      "outputs": []
    },
    {
      "cell_type": "code",
      "source": [
        "len(pd.unique(ratings_books['User-ID']))"
      ],
      "metadata": {
        "id": "2P6U6Rh4-cYV"
      },
      "execution_count": null,
      "outputs": []
    },
    {
      "cell_type": "code",
      "source": [
        "rbu_df = ratings_books.merge(users,on='User-ID')"
      ],
      "metadata": {
        "id": "AZXUqL-eAPZ5"
      },
      "execution_count": null,
      "outputs": []
    },
    {
      "cell_type": "code",
      "source": [
        "ratings_books.head()"
      ],
      "metadata": {
        "id": "9zXJDWzqAYt2"
      },
      "execution_count": null,
      "outputs": []
    },
    {
      "cell_type": "markdown",
      "source": [
        "**Cleaning the title - removes trailing spaces, converts to title case**"
      ],
      "metadata": {
        "id": "XHCxKPK2XjrR"
      }
    },
    {
      "cell_type": "code",
      "source": [
        "def clean_booktitle(title):\n",
        "    return str(title).title().strip()\n",
        "    \n",
        "ratings_books['Book-Title'] = ratings_books['Book-Title'].apply(clean_booktitle)"
      ],
      "metadata": {
        "id": "B-vGThT9miUr"
      },
      "execution_count": 4,
      "outputs": []
    },
    {
      "cell_type": "markdown",
      "source": [
        "**User constraint & book constraint - looping through each user & book**\n",
        "\n"
      ],
      "metadata": {
        "id": "7M17s0xkm-ve"
      }
    },
    {
      "cell_type": "code",
      "source": [
        "print(\"Shape before filtering:\",ratings_books.shape)\n",
        "ratings_books = ratings_books[ratings_books['User-ID'].map(ratings_books['User-ID'].value_counts()) > 200]\n",
        "\n",
        "ratings_books = ratings_books[ratings_books['Book-Title'].map(ratings_books['Book-Title'].value_counts()) > 50]\n",
        "\n",
        "ratings_books = ratings_books.reset_index(drop=True)\n",
        "print(\"Shape after filtering:\",ratings_books.shape)"
      ],
      "metadata": {
        "colab": {
          "base_uri": "https://localhost:8080/"
        },
        "id": "iLj2UU6Fmq1I",
        "outputId": "6dcb7302-393b-438e-f3c1-1d1a8017c86b"
      },
      "execution_count": null,
      "outputs": [
        {
          "output_type": "stream",
          "name": "stdout",
          "text": [
            "Shape before filtering: (1031136, 10)\n",
            "Shape after filtering: (58685, 10)\n"
          ]
        }
      ]
    },
    {
      "cell_type": "markdown",
      "source": [
        "**New data frame with column users, row books. Each row is a vector.**"
      ],
      "metadata": {
        "id": "Ldk6TTbeZQcw"
      }
    },
    {
      "cell_type": "code",
      "source": [
        "data_matrix = ratings_books.pivot_table(index='Book-Title',columns='User-ID',values='Book-Rating')\n",
        "data_matrix.fillna(0,inplace=True)"
      ],
      "metadata": {
        "id": "TDi2Pc36Bi8d"
      },
      "execution_count": null,
      "outputs": []
    },
    {
      "cell_type": "code",
      "source": [
        "data_matrix.head()"
      ],
      "metadata": {
        "id": "bjXc5szpTQ7-"
      },
      "execution_count": null,
      "outputs": []
    },
    {
      "cell_type": "code",
      "source": [
        "import random\n",
        "from sklearn.metrics.pairwise import cosine_similarity\n",
        "import matplotlib.pyplot as plt\n",
        "from PIL import Image\n",
        "import requests\n",
        "pd.set_option('max_colwidth', 1000)"
      ],
      "metadata": {
        "id": "ZWDlxSesB8D9"
      },
      "execution_count": null,
      "outputs": []
    },
    {
      "cell_type": "code",
      "source": [
        "similarity_scores_books = cosine_similarity(data_matrix) "
      ],
      "metadata": {
        "id": "D1O8_dNXB02z"
      },
      "execution_count": null,
      "outputs": []
    },
    {
      "cell_type": "markdown",
      "source": [
        "**An array that contains n number of lists (if there are n number of books), list 1 has the cosine similarity between row1/book1 and every other row/book**"
      ],
      "metadata": {
        "id": "a4g_AxQFZfvi"
      }
    },
    {
      "cell_type": "code",
      "source": [
        "similarity_scores_books"
      ],
      "metadata": {
        "id": "4su-fUHIUgP5"
      },
      "execution_count": null,
      "outputs": []
    },
    {
      "cell_type": "markdown",
      "source": [
        "\n",
        "*   **book_name is the input variable. if we do not have the book title the user has entered return -1**\n",
        "*  **index is an array of the position number of a book_name entered if the book exists in our database. The book '1984' for example is in position 1, therefore the index will return 0**\n",
        "*  **enumerate function creates key value pairs of (counter, similarity score value), first book it evaluates will have a counter of 0 and so forth**\n",
        "*  **lambda function sorts the list in descending order**\n",
        "*  **[1:8] results second to ninth most similar book, first most similar book is the same book itself and is thereby ignored**"
      ],
      "metadata": {
        "id": "uWq5Fnbxlv57"
      }
    },
    {
      "cell_type": "code",
      "source": [
        "def recommend_books(ratings_books,book_name):\n",
        "    \n",
        "    if ratings_books['Book-Title'].str.contains(book_name).any()==False:\n",
        "        return -1\n",
        "        \n",
        "    index = np.where(data_matrix.index==book_name)[0][0]\n",
        "\n",
        "    similar_items = list(enumerate(similarity_scores_books[index]))\n",
        "    similar_items = sorted(similar_items,key = lambda x:x[1],reverse=True)[1:8]\n",
        "\n",
        "    book_recommend = []\n",
        "    for i in similar_items:\n",
        "        temp_df = ratings_books[ratings_books['Book-Title'] == data_matrix.index[i[0]]]\n",
        "        book_recommend.extend(list(temp_df.drop_duplicates('Book-Title')['Book-Title'].values))       \n",
        "    return book_recommend\n",
        "        "
      ],
      "metadata": {
        "id": "CFoUbdZxD7lS"
      },
      "execution_count": null,
      "outputs": []
    },
    {
      "cell_type": "code",
      "source": [
        "recommend_books(ratings_books, \"A Bend In The Road\")"
      ],
      "metadata": {
        "colab": {
          "base_uri": "https://localhost:8080/",
          "height": 164
        },
        "id": "HkysGbBZFLYf",
        "outputId": "0eb4f2c7-9e62-4cb0-b931-0199df0bdee2"
      },
      "execution_count": null,
      "outputs": [
        {
          "output_type": "error",
          "ename": "NameError",
          "evalue": "ignored",
          "traceback": [
            "\u001b[0;31m---------------------------------------------------------------------------\u001b[0m",
            "\u001b[0;31mNameError\u001b[0m                                 Traceback (most recent call last)",
            "\u001b[0;32m<ipython-input-1-e0526b3ac8e8>\u001b[0m in \u001b[0;36m<module>\u001b[0;34m\u001b[0m\n\u001b[0;32m----> 1\u001b[0;31m \u001b[0mrecommend_books\u001b[0m\u001b[0;34m(\u001b[0m\u001b[0mratings_books\u001b[0m\u001b[0;34m,\u001b[0m \u001b[0;34m\"A Bend In The Road\"\u001b[0m\u001b[0;34m)\u001b[0m\u001b[0;34m\u001b[0m\u001b[0;34m\u001b[0m\u001b[0m\n\u001b[0m",
            "\u001b[0;31mNameError\u001b[0m: name 'recommend_books' is not defined"
          ]
        }
      ]
    },
    {
      "cell_type": "markdown",
      "source": [
        "**KNN ALGORITHM**"
      ],
      "metadata": {
        "id": "g600f0EYA5Jo"
      }
    },
    {
      "cell_type": "code",
      "source": [
        "data_matrix.values"
      ],
      "metadata": {
        "colab": {
          "base_uri": "https://localhost:8080/"
        },
        "id": "dw57c7TC9ceN",
        "outputId": "510ba628-1ee8-4b53-d245-0b4b659a6944"
      },
      "execution_count": null,
      "outputs": [
        {
          "output_type": "execute_result",
          "data": {
            "text/plain": [
              "array([[ 9.,  0.,  0., ...,  0.,  0.,  0.],\n",
              "       [ 0.,  0.,  0., ...,  0.,  0.,  0.],\n",
              "       [ 0., 10.,  0., ...,  0.,  0.,  0.],\n",
              "       ...,\n",
              "       [ 0.,  0.,  0., ...,  0.,  0.,  0.],\n",
              "       [ 0.,  0.,  0., ...,  0.,  0.,  0.],\n",
              "       [ 0.,  0.,  0., ...,  0.,  0.,  0.]])"
            ]
          },
          "metadata": {},
          "execution_count": 14
        }
      ]
    },
    {
      "cell_type": "code",
      "source": [
        "data_matrix.values.shape"
      ],
      "metadata": {
        "colab": {
          "base_uri": "https://localhost:8080/"
        },
        "id": "JVHi8rUP9lFG",
        "outputId": "495cbd6e-4acc-4474-f0aa-f08d63c0c145"
      },
      "execution_count": null,
      "outputs": [
        {
          "output_type": "execute_result",
          "data": {
            "text/plain": [
              "(693, 810)"
            ]
          },
          "metadata": {},
          "execution_count": 15
        }
      ]
    },
    {
      "cell_type": "code",
      "source": [
        "from scipy.sparse import csr_matrix\n",
        "from sklearn.neighbors import NearestNeighbors"
      ],
      "metadata": {
        "id": "Vs0YtvMv91NM"
      },
      "execution_count": null,
      "outputs": []
    },
    {
      "cell_type": "code",
      "source": [
        "features_matrix = csr_matrix(data_matrix)"
      ],
      "metadata": {
        "id": "zwHi3V6n9tNM"
      },
      "execution_count": null,
      "outputs": []
    },
    {
      "cell_type": "code",
      "source": [
        "model_NN = NearestNeighbors(n_neighbors=7, algorithm=\"brute\", metric=\"cosine\")"
      ],
      "metadata": {
        "id": "mqaE53eF-lp4"
      },
      "execution_count": null,
      "outputs": []
    },
    {
      "cell_type": "code",
      "source": [
        "model_NN.fit(X=features_matrix)"
      ],
      "metadata": {
        "colab": {
          "base_uri": "https://localhost:8080/"
        },
        "id": "Mk9OAfKe-ncx",
        "outputId": "e766310c-d525-4a3b-e374-5164222b12fa"
      },
      "execution_count": null,
      "outputs": [
        {
          "output_type": "execute_result",
          "data": {
            "text/plain": [
              "NearestNeighbors(algorithm='brute', metric='cosine', n_neighbors=7)"
            ]
          },
          "metadata": {},
          "execution_count": 19
        }
      ]
    },
    {
      "cell_type": "code",
      "source": [
        "distances, indices = model_NN.kneighbors(X=data_matrix.iloc[4, :].values.reshape(1, -1), n_neighbors=7, return_distance=True)"
      ],
      "metadata": {
        "id": "_pTJ-bRO-q8_"
      },
      "execution_count": null,
      "outputs": []
    },
    {
      "cell_type": "code",
      "source": [
        "distances"
      ],
      "metadata": {
        "colab": {
          "base_uri": "https://localhost:8080/"
        },
        "id": "lGqilXJ7_Aq6",
        "outputId": "bc3f3d42-e036-48a2-b039-b7bbdd1f433f"
      },
      "execution_count": null,
      "outputs": [
        {
          "output_type": "execute_result",
          "data": {
            "text/plain": [
              "array([[3.33066907e-16, 7.04373882e-01, 7.08578584e-01, 7.39566496e-01,\n",
              "        7.53683127e-01, 7.60635804e-01, 7.63477036e-01]])"
            ]
          },
          "metadata": {},
          "execution_count": 22
        }
      ]
    },
    {
      "cell_type": "code",
      "source": [
        "indices"
      ],
      "metadata": {
        "colab": {
          "base_uri": "https://localhost:8080/"
        },
        "id": "BaEtIqPp_E3a",
        "outputId": "040d1ee6-9abb-4053-f2ca-6b9787153514"
      },
      "execution_count": null,
      "outputs": [
        {
          "output_type": "execute_result",
          "data": {
            "text/plain": [
              "array([[  4,  24, 556, 413, 179, 118, 353]])"
            ]
          },
          "metadata": {},
          "execution_count": 23
        }
      ]
    },
    {
      "cell_type": "code",
      "source": [
        "for i in range(0, len(distances.flatten())):\n",
        "    if i == 0:\n",
        "        print('Recommendations for {0}:\\n'.format(data_matrix.index[4]))\n",
        "    else:\n",
        "        print('{0}: {1}, with distance of {2}:'.format(i, data_matrix.index[indices.flatten()[i]], distances.flatten()[i]))"
      ],
      "metadata": {
        "colab": {
          "base_uri": "https://localhost:8080/"
        },
        "id": "RB1eBFKx_UJu",
        "outputId": "3ded640e-5f0c-4795-89c9-502a4627635e"
      },
      "execution_count": null,
      "outputs": [
        {
          "output_type": "stream",
          "name": "stdout",
          "text": [
            "Recommendations for A Bend In The Road:\n",
            "\n",
            "1: A Walk To Remember, with distance of 0.7043738816822027:\n",
            "2: The Last Time They Met : A Novel, with distance of 0.7085785835016092:\n",
            "3: Sea Glass: A Novel, with distance of 0.7395664959548052:\n",
            "4: Family Album, with distance of 0.7536831267601498:\n",
            "5: Cradle And All, with distance of 0.7606358035877223:\n",
            "6: Nights In Rodanthe, with distance of 0.7634770361435563:\n"
          ]
        }
      ]
    },
    {
      "cell_type": "code",
      "source": [],
      "metadata": {
        "id": "XlFLddjX_z38"
      },
      "execution_count": null,
      "outputs": []
    }
  ]
}